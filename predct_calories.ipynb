{
  "metadata": {
    "kernelspec": {
      "language": "python",
      "display_name": "Python 3",
      "name": "python3"
    },
    "language_info": {
      "name": "python",
      "version": "3.11.11",
      "mimetype": "text/x-python",
      "codemirror_mode": {
        "name": "ipython",
        "version": 3
      },
      "pygments_lexer": "ipython3",
      "nbconvert_exporter": "python",
      "file_extension": ".py"
    },
    "kaggle": {
      "accelerator": "none",
      "dataSources": [
        {
          "sourceId": 91716,
          "databundleVersionId": 11893428,
          "sourceType": "competition"
        }
      ],
      "dockerImageVersionId": 31012,
      "isInternetEnabled": false,
      "language": "python",
      "sourceType": "notebook",
      "isGpuEnabled": false
    },
    "colab": {
      "provenance": [],
      "toc_visible": true,
      "name": "predct_calories"
    }
  },
  "nbformat_minor": 0,
  "nbformat": 4,
  "cells": [
    {
      "source": [
        "# IMPORTANT: SOME KAGGLE DATA SOURCES ARE PRIVATE\n",
        "# RUN THIS CELL IN ORDER TO IMPORT YOUR KAGGLE DATA SOURCES.\n",
        "import kagglehub\n",
        "kagglehub.login()\n"
      ],
      "metadata": {
        "id": "pouzlFs2pqBK"
      },
      "cell_type": "code",
      "outputs": [],
      "execution_count": null
    },
    {
      "source": [
        "# IMPORTANT: RUN THIS CELL IN ORDER TO IMPORT YOUR KAGGLE DATA SOURCES,\n",
        "# THEN FEEL FREE TO DELETE THIS CELL.\n",
        "# NOTE: THIS NOTEBOOK ENVIRONMENT DIFFERS FROM KAGGLE'S PYTHON\n",
        "# ENVIRONMENT SO THERE MAY BE MISSING LIBRARIES USED BY YOUR\n",
        "# NOTEBOOK.\n",
        "\n",
        "playground_series_s5e5_path = kagglehub.competition_download('playground-series-s5e5')\n",
        "\n",
        "print('Data source import complete.')\n"
      ],
      "metadata": {
        "id": "p1e7FJKQpqBP"
      },
      "cell_type": "code",
      "outputs": [],
      "execution_count": null
    },
    {
      "cell_type": "markdown",
      "source": [
        "\n",
        "# 1-Importing Librairies"
      ],
      "metadata": {
        "id": "KnhogxFAMSgi"
      }
    },
    {
      "cell_type": "code",
      "source": [
        "import pandas as pd\n",
        "from sklearn.model_selection import train_test_split\n",
        "from sklearn.ensemble import GradientBoostingRegressor\n",
        "from sklearn.preprocessing import LabelEncoder\n",
        "from sklearn.metrics import make_scorer\n",
        "import numpy as np\n",
        "import matplotlib.pyplot as plt\n",
        "import seaborn as sns\n",
        "import numpy as np"
      ],
      "metadata": {
        "_uuid": "8f2839f25d086af736a60e9eeb907d3b93b6e0e5",
        "_cell_guid": "b1076dfc-b9ad-4769-8c92-a6c4dae69d19",
        "trusted": true,
        "id": "P8E09O4MMSgo",
        "execution": {
          "iopub.status.busy": "2025-05-09T04:34:23.444912Z",
          "iopub.execute_input": "2025-05-09T04:34:23.445482Z",
          "iopub.status.idle": "2025-05-09T04:34:23.496632Z",
          "shell.execute_reply.started": "2025-05-09T04:34:23.445447Z",
          "shell.execute_reply": "2025-05-09T04:34:23.495668Z"
        }
      },
      "outputs": [],
      "execution_count": null
    },
    {
      "cell_type": "markdown",
      "source": [
        "# 2-Loading Data and showing basic infos"
      ],
      "metadata": {
        "id": "C_p9dC9tNK2k"
      }
    },
    {
      "cell_type": "code",
      "source": [
        "# Load the datasets\n",
        "df_train = pd.read_csv(\"/kaggle/input/playground-series-s5e5/train.csv\")\n",
        "df_test = pd.read_csv(\"/kaggle/input/playground-series-s5e5/test.csv\")\n",
        "df_sample_submission = pd.read_csv(\"/kaggle/input/playground-series-s5e5/sample_submission.csv\")\n",
        "\n",
        "# Display basic information and a few rows from each dataframe\n",
        "print(\"Training Data (train.csv) Info:\")\n",
        "df_train.info()\n",
        "print(\"\\nTraining Data Head:\")\n",
        "print(df_train.head())\n",
        "\n",
        "print(\"\\nTest Data (test.csv) Info:\")\n",
        "df_test.info()\n",
        "print(\"\\nTest Data Head:\")\n",
        "print(df_test.head())\n",
        "\n",
        "print(\"\\nSample Submission (sample_submission.csv) Info:\")\n",
        "df_sample_submission.info()\n",
        "print(\"\\nSample Submission Head:\")\n",
        "print(df_sample_submission.head())"
      ],
      "metadata": {
        "id": "6yo_Utm9NVpU",
        "outputId": "77b15f0c-efe1-4f74-d639-961ed6001cc7",
        "colab": {
          "base_uri": "https://localhost:8080/",
          "height": 373
        },
        "trusted": true,
        "execution": {
          "iopub.status.busy": "2025-05-09T04:34:23.498379Z",
          "iopub.execute_input": "2025-05-09T04:34:23.498672Z",
          "iopub.status.idle": "2025-05-09T04:34:24.937839Z",
          "shell.execute_reply.started": "2025-05-09T04:34:23.498649Z",
          "shell.execute_reply": "2025-05-09T04:34:24.936824Z"
        }
      },
      "outputs": [
        {
          "name": "stdout",
          "text": "Training Data (train.csv) Info:\n<class 'pandas.core.frame.DataFrame'>\nRangeIndex: 750000 entries, 0 to 749999\nData columns (total 9 columns):\n #   Column      Non-Null Count   Dtype  \n---  ------      --------------   -----  \n 0   id          750000 non-null  int64  \n 1   Sex         750000 non-null  object \n 2   Age         750000 non-null  int64  \n 3   Height      750000 non-null  float64\n 4   Weight      750000 non-null  float64\n 5   Duration    750000 non-null  float64\n 6   Heart_Rate  750000 non-null  float64\n 7   Body_Temp   750000 non-null  float64\n 8   Calories    750000 non-null  float64\ndtypes: float64(6), int64(2), object(1)\nmemory usage: 51.5+ MB\n\nTraining Data Head:\n   id     Sex  Age  Height  Weight  Duration  Heart_Rate  Body_Temp  Calories\n0   0    male   36   189.0    82.0      26.0       101.0       41.0     150.0\n1   1  female   64   163.0    60.0       8.0        85.0       39.7      34.0\n2   2  female   51   161.0    64.0       7.0        84.0       39.8      29.0\n3   3    male   20   192.0    90.0      25.0       105.0       40.7     140.0\n4   4  female   38   166.0    61.0      25.0       102.0       40.6     146.0\n\nTest Data (test.csv) Info:\n<class 'pandas.core.frame.DataFrame'>\nRangeIndex: 250000 entries, 0 to 249999\nData columns (total 8 columns):\n #   Column      Non-Null Count   Dtype  \n---  ------      --------------   -----  \n 0   id          250000 non-null  int64  \n 1   Sex         250000 non-null  object \n 2   Age         250000 non-null  int64  \n 3   Height      250000 non-null  float64\n 4   Weight      250000 non-null  float64\n 5   Duration    250000 non-null  float64\n 6   Heart_Rate  250000 non-null  float64\n 7   Body_Temp   250000 non-null  float64\ndtypes: float64(5), int64(2), object(1)\nmemory usage: 15.3+ MB\n\nTest Data Head:\n       id     Sex  Age  Height  Weight  Duration  Heart_Rate  Body_Temp\n0  750000    male   45   177.0    81.0       7.0        87.0       39.8\n1  750001    male   26   200.0    97.0      20.0       101.0       40.5\n2  750002  female   29   188.0    85.0      16.0       102.0       40.4\n3  750003  female   39   172.0    73.0      20.0       107.0       40.6\n4  750004  female   30   173.0    67.0      16.0        94.0       40.5\n\nSample Submission (sample_submission.csv) Info:\n<class 'pandas.core.frame.DataFrame'>\nRangeIndex: 250000 entries, 0 to 249999\nData columns (total 2 columns):\n #   Column    Non-Null Count   Dtype  \n---  ------    --------------   -----  \n 0   id        250000 non-null  int64  \n 1   Calories  250000 non-null  float64\ndtypes: float64(1), int64(1)\nmemory usage: 3.8 MB\n\nSample Submission Head:\n       id  Calories\n0  750000    88.283\n1  750001    88.283\n2  750002    88.283\n3  750003    88.283\n4  750004    88.283\n",
          "output_type": "stream"
        }
      ],
      "execution_count": null
    },
    {
      "cell_type": "markdown",
      "source": [
        "# 3-Preprocessing"
      ],
      "metadata": {
        "id": "dfESRiRmNhS8"
      }
    },
    {
      "cell_type": "markdown",
      "source": [
        "* **Label Encoding**: The 'Sex' column, which is categorical (e.g.,'male', 'female'), is converted into numerical representations (e.g., 0, 1) using LabelEncoder.\n",
        "\n",
        "\n",
        "---\n",
        "\n",
        "\n",
        "* **Feature Selection:**\n",
        "\n",
        "\n",
        "1.   *features:* A list of column names is defined to be used as input features for the model: 'Age', 'Height', 'Weight', 'Duration', 'Heart_Rate', 'Body_Temp', and the newly created 'Sex_Encoded'.\n",
        "2.   *X_train:* Contains the selected features from the training data.\n",
        "3.   *y_train:* Contains the target variable 'Calories' from the\n",
        "\n",
        "training data.\n",
        "4. *X_test:* Contains the selected features from the test data."
      ],
      "metadata": {
        "id": "ZCRIY0gZp5ZE"
      }
    },
    {
      "cell_type": "code",
      "source": [
        "# Initialize LabelEncoder\n",
        "le = LabelEncoder()\n",
        "\n",
        "# Fit and transform 'Sex' column in training data\n",
        "df_train['Sex_Encoded'] = le.fit_transform(df_train['Sex'])\n",
        "\n",
        "# Transform 'Sex' column in test data (using the encoder fitted on training data)\n",
        "df_test['Sex_Encoded'] = le.transform(df_test['Sex'])\n",
        "\n",
        "# Define features (X) and target (y) for training\n",
        "features = ['Age', 'Height', 'Weight', 'Duration', 'Heart_Rate', 'Body_Temp', 'Sex_Encoded']\n",
        "X_train = df_train[features]\n",
        "y_train = df_train['Calories']\n",
        "\n",
        "# Define features for the test set\n",
        "X_test = df_test[features]"
      ],
      "metadata": {
        "id": "x5N-_V9fNor5",
        "trusted": true,
        "execution": {
          "iopub.status.busy": "2025-05-09T04:34:24.939028Z",
          "iopub.execute_input": "2025-05-09T04:34:24.939299Z",
          "iopub.status.idle": "2025-05-09T04:34:25.157191Z",
          "shell.execute_reply.started": "2025-05-09T04:34:24.939277Z",
          "shell.execute_reply": "2025-05-09T04:34:25.15614Z"
        }
      },
      "outputs": [],
      "execution_count": null
    },
    {
      "cell_type": "markdown",
      "source": [
        "# 4-RMSLE scorer"
      ],
      "metadata": {
        "id": "UqFDPiWCPCkV"
      }
    },
    {
      "cell_type": "code",
      "source": [
        "# RMSLE scorer function\n",
        "def rmsle(y_true, y_pred):\n",
        "    return np.sqrt(np.mean(np.power(np.log1p(y_pred) - np.log1p(y_true), 2)))\n",
        "\n",
        "rmsle_scorer = make_scorer(rmsle, greater_is_better=False)\n"
      ],
      "metadata": {
        "id": "W3WdnaqZPLm7",
        "trusted": true,
        "execution": {
          "iopub.status.busy": "2025-05-09T04:34:25.159794Z",
          "iopub.execute_input": "2025-05-09T04:34:25.160065Z",
          "iopub.status.idle": "2025-05-09T04:34:25.165256Z",
          "shell.execute_reply.started": "2025-05-09T04:34:25.160044Z",
          "shell.execute_reply": "2025-05-09T04:34:25.164136Z"
        }
      },
      "outputs": [],
      "execution_count": null
    },
    {
      "cell_type": "markdown",
      "source": [
        "# 5-Model Trainning"
      ],
      "metadata": {
        "id": "wP4-RC74PSyg"
      }
    },
    {
      "cell_type": "code",
      "source": [
        "# Initialize and train the Gradient Boosting Regressor model\n",
        "gbr = GradientBoostingRegressor(n_estimators=500, learning_rate=0.05, max_depth=4, random_state=42, loss='squared_error')\n",
        "y_train_log = np.log1p(y_train)\n",
        "gbr.fit(X_train, y_train_log)"
      ],
      "metadata": {
        "id": "GyAuAOORPXxX",
        "trusted": true,
        "execution": {
          "iopub.status.busy": "2025-05-09T04:34:25.166262Z",
          "iopub.execute_input": "2025-05-09T04:34:25.166528Z",
          "iopub.status.idle": "2025-05-09T04:44:57.62152Z",
          "shell.execute_reply.started": "2025-05-09T04:34:25.166507Z",
          "shell.execute_reply": "2025-05-09T04:44:57.62048Z"
        },
        "outputId": "66f19dd2-5d59-446a-d481-784c6019f243"
      },
      "outputs": [
        {
          "execution_count": 6,
          "output_type": "execute_result",
          "data": {
            "text/plain": "GradientBoostingRegressor(learning_rate=0.05, max_depth=4, n_estimators=500,\n                          random_state=42)",
            "text/html": "<style>#sk-container-id-1 {color: black;background-color: white;}#sk-container-id-1 pre{padding: 0;}#sk-container-id-1 div.sk-toggleable {background-color: white;}#sk-container-id-1 label.sk-toggleable__label {cursor: pointer;display: block;width: 100%;margin-bottom: 0;padding: 0.3em;box-sizing: border-box;text-align: center;}#sk-container-id-1 label.sk-toggleable__label-arrow:before {content: \"▸\";float: left;margin-right: 0.25em;color: #696969;}#sk-container-id-1 label.sk-toggleable__label-arrow:hover:before {color: black;}#sk-container-id-1 div.sk-estimator:hover label.sk-toggleable__label-arrow:before {color: black;}#sk-container-id-1 div.sk-toggleable__content {max-height: 0;max-width: 0;overflow: hidden;text-align: left;background-color: #f0f8ff;}#sk-container-id-1 div.sk-toggleable__content pre {margin: 0.2em;color: black;border-radius: 0.25em;background-color: #f0f8ff;}#sk-container-id-1 input.sk-toggleable__control:checked~div.sk-toggleable__content {max-height: 200px;max-width: 100%;overflow: auto;}#sk-container-id-1 input.sk-toggleable__control:checked~label.sk-toggleable__label-arrow:before {content: \"▾\";}#sk-container-id-1 div.sk-estimator input.sk-toggleable__control:checked~label.sk-toggleable__label {background-color: #d4ebff;}#sk-container-id-1 div.sk-label input.sk-toggleable__control:checked~label.sk-toggleable__label {background-color: #d4ebff;}#sk-container-id-1 input.sk-hidden--visually {border: 0;clip: rect(1px 1px 1px 1px);clip: rect(1px, 1px, 1px, 1px);height: 1px;margin: -1px;overflow: hidden;padding: 0;position: absolute;width: 1px;}#sk-container-id-1 div.sk-estimator {font-family: monospace;background-color: #f0f8ff;border: 1px dotted black;border-radius: 0.25em;box-sizing: border-box;margin-bottom: 0.5em;}#sk-container-id-1 div.sk-estimator:hover {background-color: #d4ebff;}#sk-container-id-1 div.sk-parallel-item::after {content: \"\";width: 100%;border-bottom: 1px solid gray;flex-grow: 1;}#sk-container-id-1 div.sk-label:hover label.sk-toggleable__label {background-color: #d4ebff;}#sk-container-id-1 div.sk-serial::before {content: \"\";position: absolute;border-left: 1px solid gray;box-sizing: border-box;top: 0;bottom: 0;left: 50%;z-index: 0;}#sk-container-id-1 div.sk-serial {display: flex;flex-direction: column;align-items: center;background-color: white;padding-right: 0.2em;padding-left: 0.2em;position: relative;}#sk-container-id-1 div.sk-item {position: relative;z-index: 1;}#sk-container-id-1 div.sk-parallel {display: flex;align-items: stretch;justify-content: center;background-color: white;position: relative;}#sk-container-id-1 div.sk-item::before, #sk-container-id-1 div.sk-parallel-item::before {content: \"\";position: absolute;border-left: 1px solid gray;box-sizing: border-box;top: 0;bottom: 0;left: 50%;z-index: -1;}#sk-container-id-1 div.sk-parallel-item {display: flex;flex-direction: column;z-index: 1;position: relative;background-color: white;}#sk-container-id-1 div.sk-parallel-item:first-child::after {align-self: flex-end;width: 50%;}#sk-container-id-1 div.sk-parallel-item:last-child::after {align-self: flex-start;width: 50%;}#sk-container-id-1 div.sk-parallel-item:only-child::after {width: 0;}#sk-container-id-1 div.sk-dashed-wrapped {border: 1px dashed gray;margin: 0 0.4em 0.5em 0.4em;box-sizing: border-box;padding-bottom: 0.4em;background-color: white;}#sk-container-id-1 div.sk-label label {font-family: monospace;font-weight: bold;display: inline-block;line-height: 1.2em;}#sk-container-id-1 div.sk-label-container {text-align: center;}#sk-container-id-1 div.sk-container {/* jupyter's `normalize.less` sets `[hidden] { display: none; }` but bootstrap.min.css set `[hidden] { display: none !important; }` so we also need the `!important` here to be able to override the default hidden behavior on the sphinx rendered scikit-learn.org. See: https://github.com/scikit-learn/scikit-learn/issues/21755 */display: inline-block !important;position: relative;}#sk-container-id-1 div.sk-text-repr-fallback {display: none;}</style><div id=\"sk-container-id-1\" class=\"sk-top-container\"><div class=\"sk-text-repr-fallback\"><pre>GradientBoostingRegressor(learning_rate=0.05, max_depth=4, n_estimators=500,\n                          random_state=42)</pre><b>In a Jupyter environment, please rerun this cell to show the HTML representation or trust the notebook. <br />On GitHub, the HTML representation is unable to render, please try loading this page with nbviewer.org.</b></div><div class=\"sk-container\" hidden><div class=\"sk-item\"><div class=\"sk-estimator sk-toggleable\"><input class=\"sk-toggleable__control sk-hidden--visually\" id=\"sk-estimator-id-1\" type=\"checkbox\" checked><label for=\"sk-estimator-id-1\" class=\"sk-toggleable__label sk-toggleable__label-arrow\">GradientBoostingRegressor</label><div class=\"sk-toggleable__content\"><pre>GradientBoostingRegressor(learning_rate=0.05, max_depth=4, n_estimators=500,\n                          random_state=42)</pre></div></div></div></div></div>"
          },
          "metadata": {}
        }
      ],
      "execution_count": null
    },
    {
      "cell_type": "markdown",
      "source": [
        "# 6-Prediction"
      ],
      "metadata": {
        "id": "nmkcx-SJP2ix"
      }
    },
    {
      "cell_type": "code",
      "source": [
        "# Predict on the test set\n",
        "y_pred_log_test = gbr.predict(X_test)\n",
        "\n",
        "# Transform predictions back to original scale\n",
        "y_pred_test = np.expm1(y_pred_log_test)\n",
        "\n",
        "# Ensure no negative predictions if any (though log1p/expm1 should handle this)\n",
        "y_pred_test[y_pred_test < 0] = 0  # Calories cannot be negative"
      ],
      "metadata": {
        "id": "rdrxW8EVQBPL",
        "trusted": true,
        "execution": {
          "iopub.status.busy": "2025-05-09T04:44:57.622667Z",
          "iopub.execute_input": "2025-05-09T04:44:57.623121Z",
          "iopub.status.idle": "2025-05-09T04:45:00.099261Z",
          "shell.execute_reply.started": "2025-05-09T04:44:57.623069Z",
          "shell.execute_reply": "2025-05-09T04:45:00.098294Z"
        }
      },
      "outputs": [],
      "execution_count": null
    },
    {
      "cell_type": "markdown",
      "source": [
        "# 7-Submission"
      ],
      "metadata": {
        "id": "WhvUj7p1QCsN"
      }
    },
    {
      "cell_type": "code",
      "source": [
        "# Create submission DataFrame\n",
        "submission_df = pd.DataFrame({'id': df_test['id'], 'Calories': y_pred_test})\n",
        "\n",
        "# Display first few rows of submission\n",
        "print(\"Submission DataFrame Head:\")\n",
        "print(submission_df.head())\n",
        "\n",
        "# Save submission file\n",
        "submission_df.to_csv(\"submission.csv\", index=False)\n",
        "\n",
        "print(\"\\nSubmission file 'submission.csv' created successfully.\")"
      ],
      "metadata": {
        "id": "7HZy4zFQQON4",
        "trusted": true,
        "execution": {
          "iopub.status.busy": "2025-05-09T04:45:00.100337Z",
          "iopub.execute_input": "2025-05-09T04:45:00.10062Z",
          "iopub.status.idle": "2025-05-09T04:45:00.69742Z",
          "shell.execute_reply.started": "2025-05-09T04:45:00.100598Z",
          "shell.execute_reply": "2025-05-09T04:45:00.696362Z"
        },
        "outputId": "b78d1b2c-82ac-40ea-ff13-750b01dfff9e"
      },
      "outputs": [
        {
          "name": "stdout",
          "text": "Submission DataFrame Head:\n       id    Calories\n0  750000   27.075574\n1  750001  109.538440\n2  750002   87.580969\n3  750003  125.391385\n4  750004   74.514541\n\nSubmission file 'submission.csv' created successfully.\n",
          "output_type": "stream"
        }
      ],
      "execution_count": null
    },
    {
      "cell_type": "markdown",
      "source": [
        "# 8-Data Visualization"
      ],
      "metadata": {
        "id": "z57dQL1LQQM9"
      }
    },
    {
      "cell_type": "markdown",
      "source": [
        "**Plot 1: Histogram of Calories**"
      ],
      "metadata": {
        "id": "iUlDXr9wQb-o"
      }
    },
    {
      "cell_type": "code",
      "source": [
        "plt.figure(figsize=(10, 6))\n",
        "sns.histplot(df_train['Calories'], kde=True)\n",
        "plt.title('Distribution of Calories Burned')\n",
        "plt.xlabel('Calories')\n",
        "plt.ylabel('Frequency')\n",
        "plt.savefig(\"calories_distribution.png\")\n",
        "plt.close()\n",
        "print(\"Plot 1 (calories_distribution.png) generated.\")"
      ],
      "metadata": {
        "id": "iphSn110QUen",
        "trusted": true,
        "execution": {
          "iopub.status.busy": "2025-05-09T04:45:00.6987Z",
          "iopub.execute_input": "2025-05-09T04:45:00.699055Z",
          "iopub.status.idle": "2025-05-09T04:45:04.530408Z",
          "shell.execute_reply.started": "2025-05-09T04:45:00.699025Z",
          "shell.execute_reply": "2025-05-09T04:45:04.529552Z"
        },
        "outputId": "7a0a26a7-3f1c-4c5f-8039-76ba1f7f45b8"
      },
      "outputs": [
        {
          "name": "stderr",
          "text": "/usr/local/lib/python3.11/dist-packages/seaborn/_oldcore.py:1119: FutureWarning: use_inf_as_na option is deprecated and will be removed in a future version. Convert inf values to NaN before operating instead.\n  with pd.option_context('mode.use_inf_as_na', True):\n",
          "output_type": "stream"
        },
        {
          "name": "stdout",
          "text": "Plot 1 (calories_distribution.png) generated.\n",
          "output_type": "stream"
        }
      ],
      "execution_count": null
    },
    {
      "cell_type": "markdown",
      "source": [
        "**Plot 2: Scatter plot of Duration vs Calories, colored by Sex**"
      ],
      "metadata": {
        "id": "vtrdqiABQoaB"
      }
    },
    {
      "cell_type": "code",
      "source": [
        "plt.figure(figsize=(10, 6))\n",
        "sns.scatterplot(x='Duration', y='Calories', hue='Sex', data=df_train, alpha=0.6)\n",
        "plt.title('Calories Burned vs. Workout Duration by Sex')\n",
        "plt.xlabel('Duration (minutes)')\n",
        "plt.ylabel('Calories Burned')\n",
        "plt.savefig(\"duration_vs_calories_by_sex.png\")\n",
        "plt.close()\n",
        "print(\"Plot 2 (duration_vs_calories_by_sex.png) generated.\")"
      ],
      "metadata": {
        "id": "agrkLUnJQjzC",
        "trusted": true,
        "execution": {
          "iopub.status.busy": "2025-05-09T04:45:04.531344Z",
          "iopub.execute_input": "2025-05-09T04:45:04.531713Z",
          "iopub.status.idle": "2025-05-09T04:45:37.986316Z",
          "shell.execute_reply.started": "2025-05-09T04:45:04.531679Z",
          "shell.execute_reply": "2025-05-09T04:45:37.98546Z"
        },
        "outputId": "4d3fcbb2-995b-42a2-e0e6-76891569bc5d"
      },
      "outputs": [
        {
          "name": "stdout",
          "text": "Plot 2 (duration_vs_calories_by_sex.png) generated.\n",
          "output_type": "stream"
        }
      ],
      "execution_count": null
    },
    {
      "cell_type": "markdown",
      "source": [
        "**Plot 3: Box plot of Calories by Sex**"
      ],
      "metadata": {
        "id": "qEJPGMxbQ0bS"
      }
    },
    {
      "cell_type": "code",
      "source": [
        "plt.figure(figsize=(8, 6))\n",
        "sns.boxplot(x='Sex', y='Calories', data=df_train)\n",
        "plt.title('Calories Burned by Sex')\n",
        "plt.xlabel('Sex')\n",
        "plt.ylabel('Calories Burned')\n",
        "plt.savefig(\"calories_by_sex_boxplot.png\")\n",
        "plt.close()\n",
        "print(\"Plot 3 (calories_by_sex_boxplot.png) generated.\")"
      ],
      "metadata": {
        "id": "OxJnhRrMQyh1",
        "trusted": true,
        "execution": {
          "iopub.status.busy": "2025-05-09T04:45:37.988241Z",
          "iopub.execute_input": "2025-05-09T04:45:37.988513Z",
          "iopub.status.idle": "2025-05-09T04:45:38.43693Z",
          "shell.execute_reply.started": "2025-05-09T04:45:37.988492Z",
          "shell.execute_reply": "2025-05-09T04:45:38.435913Z"
        },
        "outputId": "98c28ecb-586c-4c55-de3b-27be4c248677"
      },
      "outputs": [
        {
          "name": "stdout",
          "text": "Plot 3 (calories_by_sex_boxplot.png) generated.\n",
          "output_type": "stream"
        }
      ],
      "execution_count": null
    },
    {
      "cell_type": "markdown",
      "source": [
        "**Plot 4: Correlation Heatmap**"
      ],
      "metadata": {
        "id": "EjYqZzY-Q_lO"
      }
    },
    {
      "cell_type": "code",
      "source": [
        "plt.figure(figsize=(10, 8))\n",
        "numerical_features = df_train.select_dtypes(include=np.number).columns.tolist()\n",
        "if 'id' in numerical_features:\n",
        "    numerical_features.remove('id')\n",
        "correlation_matrix = df_train[numerical_features].corr()\n",
        "sns.heatmap(correlation_matrix, annot=True, cmap='coolwarm', fmt=\".2f\")\n",
        "plt.title('Correlation Heatmap of Numerical Features')\n",
        "plt.savefig(\"correlation_heatmap.png\")\n",
        "plt.close()\n",
        "print(\"Plot 4 (correlation_heatmap.png) generated.\")"
      ],
      "metadata": {
        "id": "LWpW0NGyQ2Lt",
        "trusted": true,
        "execution": {
          "iopub.status.busy": "2025-05-09T04:45:38.437861Z",
          "iopub.execute_input": "2025-05-09T04:45:38.438106Z",
          "iopub.status.idle": "2025-05-09T04:45:38.9876Z",
          "shell.execute_reply.started": "2025-05-09T04:45:38.438086Z",
          "shell.execute_reply": "2025-05-09T04:45:38.986795Z"
        },
        "outputId": "99484287-f6f9-4f29-f66b-2909cb9cacac"
      },
      "outputs": [
        {
          "name": "stdout",
          "text": "Plot 4 (correlation_heatmap.png) generated.\n",
          "output_type": "stream"
        }
      ],
      "execution_count": null
    },
    {
      "cell_type": "markdown",
      "source": [
        "**Plot 5: Distribution of Key Numerical Features**"
      ],
      "metadata": {
        "id": "hulaOGCyxDE2"
      }
    },
    {
      "cell_type": "code",
      "source": [
        "numerical_cols_for_dist = ['Age', 'Height', 'Weight', 'Duration', 'Heart_Rate', 'Body_Temp']\n",
        "plt.figure(figsize=(15, 10))\n",
        "for i, col in enumerate(numerical_cols_for_dist):\n",
        "    plt.subplot(2, 3, i + 1)\n",
        "    sns.histplot(df_train[col], kde=True)\n",
        "    plt.title(f'Distribution of {col}')\n",
        "    plt.xlabel(col)\n",
        "    plt.ylabel('Frequency')\n",
        "plt.tight_layout()\n",
        "plt.savefig(\"numerical_features_distribution.png\")\n",
        "plt.close()\n",
        "print(\"Plot 5 (numerical_features_distribution.png) generated.\")"
      ],
      "metadata": {
        "id": "lPTUTnB5xLai"
      },
      "execution_count": null,
      "outputs": []
    },
    {
      "cell_type": "markdown",
      "source": [
        "**Plot 6: Scatter plot of Heart Rate vs Calories**"
      ],
      "metadata": {
        "id": "lZuFzhcCxRCF"
      }
    },
    {
      "cell_type": "code",
      "source": [
        "plt.figure(figsize=(10, 6))\n",
        "sns.scatterplot(x='Heart_Rate', y='Calories', data=df_train, alpha=0.6)\n",
        "plt.title('Calories Burned vs. Heart Rate')\n",
        "plt.xlabel('Heart Rate (bpm)')\n",
        "plt.ylabel('Calories Burned')\n",
        "plt.savefig(\"heart_rate_vs_calories.png\")\n",
        "plt.close()\n",
        "print(\"Plot 6 (heart_rate_vs_calories.png) generated.\")"
      ],
      "metadata": {
        "id": "x82oMFhVxW7x"
      },
      "execution_count": null,
      "outputs": []
    },
    {
      "cell_type": "markdown",
      "source": [
        "**Plot 7: Scatter plot of Weight vs Calories**"
      ],
      "metadata": {
        "id": "1nl-zXWYxbwL"
      }
    },
    {
      "cell_type": "markdown",
      "source": [
        "\n",
        "\n",
        "> thats plot purpose is to examine how body weight correlates with calories burned. Generally it shows that individuals with higher body weight tend to burn more calories for the same activity.\n",
        "\n"
      ],
      "metadata": {
        "id": "e4XqFRb2y_LN"
      }
    },
    {
      "cell_type": "code",
      "source": [
        "plt.figure(figsize=(10, 6))\n",
        "sns.scatterplot(x='Weight', y='Calories', data=df_train, alpha=0.6)\n",
        "plt.title('Calories Burned vs. Weight')\n",
        "plt.xlabel('Weight (kg)')\n",
        "plt.ylabel('Calories Burned')\n",
        "plt.savefig(\"weight_vs_calories.png\")\n",
        "plt.close()\n",
        "print(\"Plot 7 (weight_vs_calories.png) generated.\")"
      ],
      "metadata": {
        "id": "QP5xPbWQxkfW"
      },
      "execution_count": null,
      "outputs": []
    },
    {
      "cell_type": "markdown",
      "source": [
        "**Plot 8: Feature Importance Plot**"
      ],
      "metadata": {
        "id": "tsgDelUOxnKK"
      }
    },
    {
      "cell_type": "markdown",
      "source": [
        "> it identify which features the Gradient Boosting Regressor model found most influential in predicting calories burned."
      ],
      "metadata": {
        "id": "wsRcHmWczj_y"
      }
    },
    {
      "cell_type": "code",
      "source": [
        "# The 'features' list used for training: ['Age', 'Height', 'Weight', 'Duration', 'Heart_Rate', 'Body_Temp', 'Sex_Encoded']\n",
        "importances = gbr.feature_importances_\n",
        "feature_names = X_train.columns\n",
        "\n",
        "feature_importance_df = pd.DataFrame({'feature': feature_names, 'importance': importances})\n",
        "feature_importance_df = feature_importance_df.sort_values(by='importance', ascending=False)\n",
        "\n",
        "plt.figure(figsize=(10, 7))\n",
        "sns.barplot(x='importance', y='feature', data=feature_importance_df)\n",
        "plt.title('Feature Importances from Gradient Boosting Regressor')\n",
        "plt.xlabel('Importance')\n",
        "plt.ylabel('Feature')\n",
        "plt.savefig(\"feature_importances.png\")\n",
        "plt.close()\n",
        "print(\"Plot 8 (feature_importances.png) generated.\")"
      ],
      "metadata": {
        "id": "6zcu1yWmxvju"
      },
      "execution_count": null,
      "outputs": []
    },
    {
      "cell_type": "markdown",
      "source": [
        "**Plot 9: Pair Plot for a Subset of Features and Target**"
      ],
      "metadata": {
        "id": "ACcQBDQHyDNO"
      }
    },
    {
      "cell_type": "markdown",
      "source": [
        "> provides a comprehensive overview of correlations and distributions in one go. Helps spot linear or non-linear relationships and potential interactions."
      ],
      "metadata": {
        "id": "qaEIcXKvz1YU"
      }
    },
    {
      "cell_type": "code",
      "source": [
        "pairplot_features = ['Duration', 'Heart_Rate', 'Body_Temp', 'Weight', 'Calories']\n",
        "plt.figure()\n",
        "sns.pairplot(df_train[pairplot_features], diag_kind='kde', corner=True)\n",
        "plt.suptitle('Pair Plot of Key Features and Calories', y=1.02)\n",
        "plt.savefig(\"pairplot_key_features_calories.png\")\n",
        "plt.close()\n",
        "print(\"Plot 9 (pairplot_key_features_calories.png) generated.\")"
      ],
      "metadata": {
        "id": "eKN5DLMGyFKW"
      },
      "execution_count": null,
      "outputs": []
    },
    {
      "cell_type": "markdown",
      "source": [
        "**Plot 10: Residual Plot**"
      ],
      "metadata": {
        "id": "DliGKj4RyVzw"
      }
    },
    {
      "cell_type": "markdown",
      "source": [
        "> To diagnose the performance of the regression model by examining the residuals (the differences between actual and predicted values) on the training data."
      ],
      "metadata": {
        "id": "fikJ_7GH0DaI"
      }
    },
    {
      "cell_type": "code",
      "source": [
        "y_train_pred_log = gbr.predict(X_train)\n",
        "y_train_pred = np.expm1(y_train_pred_log)\n",
        "residuals = y_train - y_train_pred\n",
        "\n",
        "plt.figure(figsize=(10, 6))\n",
        "sns.scatterplot(x=y_train_pred, y=residuals, alpha=0.5)\n",
        "plt.axhline(0, color='red', linestyle='--')\n",
        "plt.title('Residual Plot (Actual vs. Predicted Calories on Training Data)')\n",
        "plt.xlabel('Predicted Calories')\n",
        "plt.ylabel('Residuals (Actual - Predicted)')\n",
        "plt.savefig(\"residual_plot.png\")\n",
        "plt.close()\n",
        "print(\"Plot 10 (residual_plot.png) generated.\")"
      ],
      "metadata": {
        "id": "cfPnUKMJyhlL"
      },
      "execution_count": null,
      "outputs": []
    }
  ]
}